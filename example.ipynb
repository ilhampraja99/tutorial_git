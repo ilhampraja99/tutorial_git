{
 "cells": [
  {
   "cell_type": "code",
   "execution_count": null,
   "id": "5c3f4b79-c5fd-4dc4-8fb1-ae000742e1dc",
   "metadata": {},
   "outputs": [],
   "source": [
    "print(\"Hellow World\")"
   ]
  }
 ],
 "metadata": {
  "kernelspec": {
   "display_name": "Python 3 (ipykernel)",
   "language": "python",
   "name": "python3"
  },
  "language_info": {
   "codemirror_mode": {
    "name": "ipython",
    "version": 3
   },
   "file_extension": ".py",
   "mimetype": "text/x-python",
   "name": "python",
   "nbconvert_exporter": "python",
   "pygments_lexer": "ipython3",
   "version": "3.9.13"
  }
 },
 "nbformat": 4,
 "nbformat_minor": 5
}
